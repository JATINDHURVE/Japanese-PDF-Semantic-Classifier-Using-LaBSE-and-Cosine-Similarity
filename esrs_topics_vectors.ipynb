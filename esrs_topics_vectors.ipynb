{
 "cells": [
  {
   "cell_type": "code",
   "execution_count": 1,
   "id": "806834c8",
   "metadata": {},
   "outputs": [
    {
     "name": "stderr",
     "output_type": "stream",
     "text": [
      "c:\\Users\\JatinDhurve(VBAFMCwo\\AppData\\Local\\Programs\\Python\\Python313\\Lib\\site-packages\\tqdm\\auto.py:21: TqdmWarning: IProgress not found. Please update jupyter and ipywidgets. See https://ipywidgets.readthedocs.io/en/stable/user_install.html\n",
      "  from .autonotebook import tqdm as notebook_tqdm\n"
     ]
    }
   ],
   "source": [
    "import os\n",
    "import re\n",
    "import pdfplumber\n",
    "import pandas as pd\n",
    "import numpy as np\n",
    "from sentence_transformers import SentenceTransformer\n",
    "from sklearn.metrics.pairwise import cosine_similarity"
   ]
  },
  {
   "cell_type": "code",
   "execution_count": 2,
   "id": "8f0a3bdb",
   "metadata": {},
   "outputs": [],
   "source": [
    "# Load the model\n",
    "model = SentenceTransformer('sentence-transformers/LaBSE')"
   ]
  },
  {
   "cell_type": "code",
   "execution_count": 3,
   "id": "306e84ea",
   "metadata": {},
   "outputs": [],
   "source": [
    "# Define Japanese topics\n",
    "topics = [\n",
    "    \"気候変動\", \"気候変動への適応\", \"気候変動の緩和\", \"エネルギー\",\n",
    "    \"空気の汚染\", \"水の汚染\", \"土壌汚染\", \"生物および食料資源の汚染\",\n",
    "    \"懸念物質\", \"非常に懸念の高い物質\", \"マイクロプラスチック\",\n",
    "    \"水の消費と取水\", \"放水\", \"海洋資源の使用\", \"海洋資源の採取と利用\",\n",
    "    \"生物多様性の損失\", \"侵略的外来種\", \"種の個体数\", \"絶滅リスク\", \"砂漠化\",\n",
    "    \"循環経済\", \"無駄\", \"労働条件\", \"適切な賃金\", \"労働時間\", \"健康と安全\",\n",
    "    \"平等と機会\", \"障害者の雇用\", \"児童労働\", \"プライバシー\", \"文化的権利\",\n",
    "    \"企業文化\", \"ロビー活動\", \"贈収賄\", \"動物福祉\"\n",
    "]"
   ]
  },
  {
   "cell_type": "code",
   "execution_count": 4,
   "id": "c8179219",
   "metadata": {},
   "outputs": [
    {
     "name": "stderr",
     "output_type": "stream",
     "text": [
      "Batches: 100%|██████████| 2/2 [00:01<00:00,  2.00it/s]\n"
     ]
    }
   ],
   "source": [
    "# Step 2: Encode topic phrases using the same model (LaBSE)\n",
    "topic_embeddings = model.encode(topics, convert_to_numpy=True, show_progress_bar=True)\n",
    "\n",
    "# Step 3: Store in a new DataFrame\n",
    "topic_df = pd.DataFrame({\n",
    "    'topic': topics,\n",
    "    'embedding_topic': topic_embeddings.tolist()\n",
    "})"
   ]
  },
  {
   "cell_type": "code",
   "execution_count": 5,
   "id": "d6871ece",
   "metadata": {},
   "outputs": [
    {
     "data": {
      "text/html": [
       "<div>\n",
       "<style scoped>\n",
       "    .dataframe tbody tr th:only-of-type {\n",
       "        vertical-align: middle;\n",
       "    }\n",
       "\n",
       "    .dataframe tbody tr th {\n",
       "        vertical-align: top;\n",
       "    }\n",
       "\n",
       "    .dataframe thead th {\n",
       "        text-align: right;\n",
       "    }\n",
       "</style>\n",
       "<table border=\"1\" class=\"dataframe\">\n",
       "  <thead>\n",
       "    <tr style=\"text-align: right;\">\n",
       "      <th></th>\n",
       "      <th>topic</th>\n",
       "      <th>embedding_topic</th>\n",
       "    </tr>\n",
       "  </thead>\n",
       "  <tbody>\n",
       "    <tr>\n",
       "      <th>0</th>\n",
       "      <td>気候変動</td>\n",
       "      <td>[-0.03803761675953865, -0.04873177781701088, -...</td>\n",
       "    </tr>\n",
       "    <tr>\n",
       "      <th>1</th>\n",
       "      <td>気候変動への適応</td>\n",
       "      <td>[-0.00950303953140974, -0.040512144565582275, ...</td>\n",
       "    </tr>\n",
       "    <tr>\n",
       "      <th>2</th>\n",
       "      <td>気候変動の緩和</td>\n",
       "      <td>[-0.03168332204222679, -0.022349612787365913, ...</td>\n",
       "    </tr>\n",
       "    <tr>\n",
       "      <th>3</th>\n",
       "      <td>エネルギー</td>\n",
       "      <td>[0.01078301016241312, -0.05533900484442711, -0...</td>\n",
       "    </tr>\n",
       "    <tr>\n",
       "      <th>4</th>\n",
       "      <td>空気の汚染</td>\n",
       "      <td>[-0.06226995214819908, -0.034258317202329636, ...</td>\n",
       "    </tr>\n",
       "  </tbody>\n",
       "</table>\n",
       "</div>"
      ],
      "text/plain": [
       "      topic                                    embedding_topic\n",
       "0      気候変動  [-0.03803761675953865, -0.04873177781701088, -...\n",
       "1  気候変動への適応  [-0.00950303953140974, -0.040512144565582275, ...\n",
       "2   気候変動の緩和  [-0.03168332204222679, -0.022349612787365913, ...\n",
       "3     エネルギー  [0.01078301016241312, -0.05533900484442711, -0...\n",
       "4     空気の汚染  [-0.06226995214819908, -0.034258317202329636, ..."
      ]
     },
     "execution_count": 5,
     "metadata": {},
     "output_type": "execute_result"
    }
   ],
   "source": [
    "# Step 4: Check result\n",
    "topic_df.head(5)"
   ]
  },
  {
   "cell_type": "code",
   "execution_count": 6,
   "id": "298b0d12",
   "metadata": {},
   "outputs": [],
   "source": [
    "topic_df.to_csv('topic_embeddings.csv', index=False, encoding=\"utf-8-sig\")"
   ]
  },
  {
   "cell_type": "code",
   "execution_count": null,
   "id": "01b53ba4",
   "metadata": {},
   "outputs": [],
   "source": []
  },
  {
   "cell_type": "code",
   "execution_count": null,
   "id": "a123ab87",
   "metadata": {},
   "outputs": [],
   "source": []
  },
  {
   "cell_type": "code",
   "execution_count": null,
   "id": "b83d7da1",
   "metadata": {},
   "outputs": [],
   "source": []
  }
 ],
 "metadata": {
  "kernelspec": {
   "display_name": "Python 3",
   "language": "python",
   "name": "python3"
  },
  "language_info": {
   "codemirror_mode": {
    "name": "ipython",
    "version": 3
   },
   "file_extension": ".py",
   "mimetype": "text/x-python",
   "name": "python",
   "nbconvert_exporter": "python",
   "pygments_lexer": "ipython3",
   "version": "3.13.2"
  }
 },
 "nbformat": 4,
 "nbformat_minor": 5
}
